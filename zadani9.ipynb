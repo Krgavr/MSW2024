{
 "cells": [
  {
   "cell_type": "markdown",
   "metadata": {},
   "source": [
    "9. Integrace funkce jedné proměnné\n",
    "\n",
    "Zadání:\n",
    "V oblasti přírodních a sociálních věd je velice důležitým pojmem integrál, který představuje funkci součtů malých změn (počet nakažených covidem za čas, hustota monomerů daného typu při posouvání se v řetízku polymeru, aj.). Integraci lze provádět pro velmi jednoduché funkce prostou Riemannovým součtem, avšak pro složitější funkce je nutné využít pokročilé metody. Vaším úkolem je vybrat si 3 různorodé funkce (polynom, harmonická funkce, logaritmus/exponenciála) a vypočíst určitý integrál na dané funkci od nějakého počátku do nějakého konečného bodu. Porovnejte, jak si každá z metod poradila s vámi vybranou funkcí na základě přesnosti vůči analytickému řešení."
   ]
  },
  {
   "cell_type": "code",
   "execution_count": 1,
   "metadata": {},
   "outputs": [],
   "source": [
    "import numpy as np\n",
    "import scipy \n",
    "from scipy import integrate  "
   ]
  },
  {
   "cell_type": "code",
   "execution_count": 2,
   "metadata": {},
   "outputs": [
    {
     "name": "stdout",
     "output_type": "stream",
     "text": [
      "Polynom: \n",
      " Levý součet: -2.25900675 \n",
      " Pravý součet: -2.24100675 \n",
      " Střední součet: -2.249996625 \n",
      " Analytické řešení: (-2.2500000000000013, 3.058558719251512e-14)\n",
      " \n",
      "Exponenciální: \n",
      " Levý součet: -0.28257716926503423 \n",
      " Pravý součet: -0.2808588874365752 \n",
      " Střední součet: -0.28171824313602883 \n",
      " Analytické řešení: (-0.2817181715409547, 5.456190968163537e-15)\n",
      " \n",
      "Harmonická: \n",
      " Levý součet: 1.9999983550656624 \n",
      " Pravý součet: 1.9999983550656628 \n",
      " Střední součet: 2.0000008224672703 \n",
      " Analytické řešení: (2.0, 2.220446049250313e-14)\n",
      " \n"
     ]
    }
   ],
   "source": [
    "#funkce\n",
    "def polynom_fce(x):\n",
    "    return x**3 - 6*x**2 + 11*x - 6\n",
    "\n",
    "\n",
    "def exponencialni_fce(x):\n",
    "    return np.exp(x) - 2\n",
    "\n",
    "\n",
    "def harmonicka_fce(x): \n",
    "    return np.sin(x)\n",
    "\n",
    "\n",
    "#interval \n",
    "interval_polynom = (0, 3)\n",
    "interval_harmonicka = (0, np.pi)\n",
    "interval_exp = (0, 1)\n",
    "\n",
    "\n",
    "#analiticke reseni \n",
    "analiticky_polynom = integrate.quad(polynom_fce, interval_polynom[0], interval_polynom[1])\n",
    "analiticka_harmonicka = integrate.quad(harmonicka_fce, interval_harmonicka[0],interval_harmonicka[1] )\n",
    "analicka_exp = integrate.quad(exponencialni_fce, interval_exp[0],interval_exp[1] )\n",
    "\n",
    "#parametr - pocet podintevalu\n",
    "n = 1000 \n",
    "\n",
    "# funce pro vypocet riemannuva souctu \n",
    "# f - funkce, rterou budeme integrovat\n",
    "# a,b - interval, n - parametr \n",
    "def levy_soucet(f, a, b, n):\n",
    "    dx = (b - a) / n\n",
    "    x = np.linspace(a, b - dx, n)\n",
    "    return np.sum(f(x)) * dx\n",
    "\n",
    "def pravy_soucet(f, a, b, n):\n",
    "    dx = (b - a) / n\n",
    "    x = np.linspace(a + dx, b, n)\n",
    "    return np.sum(f(x)) * dx\n",
    "\n",
    "def stredni_soucet(f, a, b, n):\n",
    "    dx = (b - a) / n\n",
    "    x = np.linspace(a + dx/2, b - dx/2, n)\n",
    "    return np.sum(f(x)) * dx\n",
    "\n",
    "\n",
    "# vypocet \n",
    "\n",
    "# polynom \n",
    "pol_levy_soucet = levy_soucet(polynom_fce, interval_polynom[0], interval_polynom[1], n)\n",
    "pol_pravy_soucet = pravy_soucet(polynom_fce, interval_polynom[0], interval_polynom[1], n)\n",
    "pol_stredni_soucet = stredni_soucet(polynom_fce, interval_polynom[0], interval_polynom[1], n)\n",
    "\n",
    "# exponencialni\n",
    "exp_levy_soucet = levy_soucet(exponencialni_fce, interval_exp[0], interval_exp[1], n)\n",
    "exp_pravy_soucet= pravy_soucet(exponencialni_fce, interval_exp[0], interval_exp[1], n)\n",
    "exp_stredni_soucet = stredni_soucet(exponencialni_fce, interval_exp[0], interval_exp[1], n)\n",
    "\n",
    "#harmonicka\n",
    "harmonicka_levy_soucet = levy_soucet(harmonicka_fce, interval_harmonicka[0], interval_harmonicka[1], n)\n",
    "harmonicka_pravy_soucet = pravy_soucet(harmonicka_fce, interval_harmonicka[0], interval_harmonicka[1], n)\n",
    "harmonicka_stredni_soucet= stredni_soucet(harmonicka_fce, interval_harmonicka[0], interval_harmonicka[1], n)\n",
    "\n",
    "\n",
    "#vysledky  \n",
    "print(f\"Polynom: \\n Levý součet: {pol_levy_soucet} \\n Pravý součet: {pol_pravy_soucet} \\n Střední součet: {pol_stredni_soucet} \\n Analytické řešení: {analiticky_polynom}\\n \")\n",
    "print(f\"Exponenciální: \\n Levý součet: {exp_levy_soucet} \\n Pravý součet: {exp_pravy_soucet} \\n Střední součet: {exp_stredni_soucet} \\n Analytické řešení: {analicka_exp}\\n \")\n",
    "print(f\"Harmonická: \\n Levý součet: {harmonicka_levy_soucet} \\n Pravý součet: {harmonicka_pravy_soucet} \\n Střední součet: {harmonicka_stredni_soucet} \\n Analytické řešení: {analiticka_harmonicka}\\n \")\n",
    " \n"
   ]
  }
 ],
 "metadata": {
  "kernelspec": {
   "display_name": "Python 3",
   "language": "python",
   "name": "python3"
  },
  "language_info": {
   "codemirror_mode": {
    "name": "ipython",
    "version": 3
   },
   "file_extension": ".py",
   "mimetype": "text/x-python",
   "name": "python",
   "nbconvert_exporter": "python",
   "pygments_lexer": "ipython3",
   "version": "3.11.5"
  }
 },
 "nbformat": 4,
 "nbformat_minor": 2
}
