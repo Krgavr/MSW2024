{
 "cells": [
  {
   "cell_type": "markdown",
   "metadata": {},
   "source": [
    "8. Derivace funkce jedné proměnné\n",
    "\n",
    "Zadání:\n",
    "Numerická derivace je velice krátké téma. V hodinách jste se dozvěděli o nejvyužívanějších typech numerické derivace (dopředná, zpětná, centrální). Jedno z neřešených témat na hodinách byl problém volby kroku. V praxi je vhodné mít krok dynamicky nastavitelný. Algoritmům tohoto typu se říká derivace s adaptabilním krokem. Cílem tohoto zadání je napsat program, který provede numerickou derivaci s adaptabilním krokem pro vámi vybranou funkci. Proveďte srovnání se statickým krokem a analytickým řešením."
   ]
  },
  {
   "cell_type": "code",
   "execution_count": 1,
   "metadata": {},
   "outputs": [
    {
     "name": "stdout",
     "output_type": "stream",
     "text": [
      "Analyticka derivace: 0.7071067811865476\n",
      "Numericka derivaci s adaptabilnim krokem: 0.7071021776357611\n"
     ]
    }
   ],
   "source": [
    "import math\n",
    "\n",
    "# zakladni funkce  \n",
    "def fce(x):\n",
    "    return math.sin(x)\n",
    "\n",
    "# analyticka derivace \n",
    "def analyticka_der(x):\n",
    "    return math.cos(x)\n",
    "\n",
    "# numericka derivace (centralni)\n",
    "# x je bod, ve kterem chceme spocitat derivaci\n",
    "# h je krok, ukazuje body ktere budeme brat vpravo a vlevo od x \n",
    "def centralni_der(x, h):\n",
    "    return (fce(x + h) - fce(x - h)) / (2 * h) \n",
    "\n",
    "\n",
    "# tolerance je presnost vysledku \n",
    "def adaptivni_der(x, h, tolerance):\n",
    "    new_h = h \n",
    "    error = float('inf')\n",
    "\n",
    "    while error > tolerance:\n",
    "        derivace = centralni_der(x, new_h)\n",
    "        der2 = centralni_der(x, new_h/2)\n",
    "        der3 = centralni_der(x, new_h/4)\n",
    "\n",
    "        error = abs(der2 - der3)\n",
    "        new_h /= 2\n",
    "\n",
    "\n",
    "    return derivace\n",
    "\n",
    "\n",
    "\n",
    "#vypocet analyticke derivaci \n",
    "analyticky_vysledek = analyticka_der(math.pi / 4)\n",
    "\n",
    "# vypocet adaptivni derivaci \n",
    "adaptivni_vysledek = adaptivni_der(math.pi / 4, 0.1, 1e-6)\n",
    "\n",
    "#vysledky \n",
    "print(f\"Analyticka derivace: {analyticky_vysledek}\")\n",
    "print(f\"Numericka derivaci s adaptabilnim krokem: {adaptivni_vysledek}\")\n",
    "\n"
   ]
  }
 ],
 "metadata": {
  "kernelspec": {
   "display_name": "Python 3",
   "language": "python",
   "name": "python3"
  },
  "language_info": {
   "codemirror_mode": {
    "name": "ipython",
    "version": 3
   },
   "file_extension": ".py",
   "mimetype": "text/x-python",
   "name": "python",
   "nbconvert_exporter": "python",
   "pygments_lexer": "ipython3",
   "version": "3.11.5"
  }
 },
 "nbformat": 4,
 "nbformat_minor": 2
}
