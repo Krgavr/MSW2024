{
 "cells": [
  {
   "cell_type": "markdown",
   "metadata": {},
   "source": [
    "Zadání:\n",
    "V tomto kurzu jste se učili s některými vybranými knihovnami. Některé sloužily pro rychlé vektorové operace, jako numpy, některé mají naprogramovány symbolické manipulace, které lze převést na numerické reprezentace (sympy), některé mají v sobě funkce pro numerickou integraci (scipy). Některé slouží i pro rychlé základní operace s čísly (numba).\n",
    "\n",
    "Vaším úkolem je změřit potřebný čas pro vyřešení nějakého problému (např.: provést skalární součin, vypočítat určitý integrál) pomocí standardního pythonu a pomocí specializované knihovny. Toto měření proveďte alespoň pro 5 různých úloh (ne pouze jiná čísla, ale úplně jiné téma) a minimálně porovnejte rychlost jednoho modulu se standardním pythonem. Ideálně proveďte porovnání ještě s dalším modulem a snažte se, ať je kód ve standardním pythonu napsán efektivně. ​"
   ]
  },
  {
   "cell_type": "markdown",
   "metadata": {},
   "source": [
    "Počítání integrálu"
   ]
  },
  {
   "cell_type": "code",
   "execution_count": 1,
   "metadata": {},
   "outputs": [
    {
     "name": "stdout",
     "output_type": "stream",
     "text": [
      "(40.0, 4.440892098500626e-13)\n",
      "0.00012063980102539062\n",
      "40.0\n",
      "0.00019407272338867188\n",
      "python je 0.00019407272338867188\n",
      "scipy je 0.00012063980102539062\n",
      "Scipy je zde 1.608695652173913 rychlejší \n"
     ]
    }
   ],
   "source": [
    "#řešení určitého integrálu pomocí scipy\n",
    "\n",
    "import scipy\n",
    "from scipy import  integrate\n",
    "import time\n",
    "\n",
    "\n",
    "t1 = time.time()\n",
    "\n",
    "def f(x):\n",
    "  return 3 * (x**2) +1\n",
    "result = integrate.quad(f, -3, 2)\n",
    "\n",
    "t2= time.time() - t1\n",
    "\n",
    "print(result)\n",
    "print(t2)\n",
    "\n",
    "\n",
    "\n",
    "#řešení určitého integrálu pomocí pythonu\n",
    "# 3 * (x **2) +1\n",
    "\n",
    "t3 = time.time()\n",
    "def f(a, x, n, c ):\n",
    "  if c == 0:\n",
    "    integral = a * (1/(n+1)) * (x ** (n+1))\n",
    "  else:\n",
    "    integral = a * (1/(n+1)) * (x ** (n+1)) + (c * x)\n",
    "  return integral\n",
    "\n",
    "b_integral = f(3, 2, 2, 1)\n",
    "\n",
    "a_integral = f(3, -3, 2, 1)\n",
    "\n",
    "vysledek = b_integral - a_integral\n",
    "t4= time.time() -t3\n",
    "\n",
    "print(vysledek)\n",
    "print(t4)\n",
    "\n",
    "\n",
    "# srovnání rychlosti\n",
    "\n",
    "print(f'python je {t4}')\n",
    "print(f'scipy je {t2}')\n",
    "print(f'Scipy je zde {t4/t2} rychlejší ')"
   ]
  },
  {
   "cell_type": "markdown",
   "metadata": {},
   "source": [
    "Počítání derivaci"
   ]
  },
  {
   "cell_type": "code",
   "execution_count": 2,
   "metadata": {},
   "outputs": [
    {
     "name": "stdout",
     "output_type": "stream",
     "text": [
      "0.01920604705810547\n"
     ]
    },
    {
     "data": {
      "text/latex": [
       "$\\displaystyle \\frac{e^{\\sqrt{\\sin{\\left(x \\right)}}} \\cos{\\left(x \\right)}}{2 \\sqrt{\\sin{\\left(x \\right)}}}$"
      ],
      "text/plain": [
       "exp(sqrt(sin(x)))*cos(x)/(2*sqrt(sin(x)))"
      ]
     },
     "execution_count": 2,
     "metadata": {},
     "output_type": "execute_result"
    }
   ],
   "source": [
    "import sympy \n",
    "from sympy.abc import x\n",
    "from sympy import exp, sqrt, sin, diff\n",
    "import time \n",
    "\n",
    "cas1 = time.time()\n",
    "fce = exp(sqrt(sin(x)))\n",
    "derivace = diff(fce, x)\n",
    "cas2 = time.time() - cas1\n",
    "\n",
    "print(cas2)\n",
    "\n",
    "derivace "
   ]
  },
  {
   "cell_type": "markdown",
   "metadata": {},
   "source": [
    "Matice \n"
   ]
  },
  {
   "cell_type": "code",
   "execution_count": 3,
   "metadata": {},
   "outputs": [
    {
     "name": "stdout",
     "output_type": "stream",
     "text": [
      "0.0007870197296142578\n"
     ]
    },
    {
     "data": {
      "text/latex": [
       "$\\displaystyle \\left[\\begin{matrix}3 & 7\\\\-1 & 2\\\\8 & 7\\end{matrix}\\right]$"
      ],
      "text/plain": [
       "Matrix([\n",
       "[ 3, 7],\n",
       "[-1, 2],\n",
       "[ 8, 7]])"
      ]
     },
     "execution_count": 3,
     "metadata": {},
     "output_type": "execute_result"
    }
   ],
   "source": [
    "# součet matic \n",
    "\n",
    "import sympy \n",
    "from sympy import Matrix\n",
    "import time \n",
    "\n",
    "start = time.time() \n",
    "\n",
    "matice1 = Matrix([[2, 0], [-3, 5], [4, 1]])\n",
    "matice2 = Matrix([[1, 7], [2, -3], [4, 6]])\n",
    "\n",
    "slozeni = matice1 + matice2\n",
    "\n",
    "end = time.time() - start \n",
    "\n",
    "print(end)\n",
    "slozeni"
   ]
  },
  {
   "cell_type": "code",
   "execution_count": 4,
   "metadata": {},
   "outputs": [
    {
     "name": "stdout",
     "output_type": "stream",
     "text": [
      "Determinant je 27.999999999999996, čas je 0.00043320655822753906\n"
     ]
    }
   ],
   "source": [
    "# determinant matici \n",
    "\n",
    "import time \n",
    "import numpy as np \n",
    "\n",
    "start = time.time()\n",
    "matice = np.array([\n",
    "    [3, -5, 2],\n",
    "    [7, 2, -3],\n",
    "    [3, -2, 1]])\n",
    "\n",
    "vysledek = np.linalg.det(matice)\n",
    "\n",
    "end = time.time() - start\n",
    "\n",
    "print(f'Determinant je {vysledek}, čas je {end}') "
   ]
  },
  {
   "cell_type": "markdown",
   "metadata": {},
   "source": [
    "Diferenciální rovnice"
   ]
  },
  {
   "cell_type": "code",
   "execution_count": 5,
   "metadata": {},
   "outputs": [
    {
     "name": "stdout",
     "output_type": "stream",
     "text": [
      "0.04466390609741211\n"
     ]
    },
    {
     "data": {
      "text/latex": [
       "$\\displaystyle y{\\left(x \\right)} = C_{1} \\sin{\\left(x \\right)} + C_{2} \\cos{\\left(x \\right)} + 1$"
      ],
      "text/plain": [
       "Eq(y(x), C1*sin(x) + C2*cos(x) + 1)"
      ]
     },
     "execution_count": 5,
     "metadata": {},
     "output_type": "execute_result"
    }
   ],
   "source": [
    "# y′′ + y = 1\n",
    "\n",
    "import sympy \n",
    "from sympy import  diff, Eq, Function, Symbol, dsolve\n",
    "\n",
    "start = time.time()\n",
    "y = Function('y')\n",
    "x = Symbol('x')\n",
    "\n",
    "L = y(x).diff(x,x) + y(x)\n",
    "R = 1\n",
    "\n",
    "drovnice = dsolve(Eq(L, R), y(x))\n",
    "\n",
    "end = time.time() - start\n",
    "\n",
    "print(end)\n",
    "drovnice \n"
   ]
  }
 ],
 "metadata": {
  "kernelspec": {
   "display_name": "Python 3",
   "language": "python",
   "name": "python3"
  },
  "language_info": {
   "codemirror_mode": {
    "name": "ipython",
    "version": 3
   },
   "file_extension": ".py",
   "mimetype": "text/x-python",
   "name": "python",
   "nbconvert_exporter": "python",
   "pygments_lexer": "ipython3",
   "version": "3.11.5"
  }
 },
 "nbformat": 4,
 "nbformat_minor": 2
}
