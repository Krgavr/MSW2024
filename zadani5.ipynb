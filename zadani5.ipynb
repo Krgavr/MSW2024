{
 "cells": [
  {
   "cell_type": "markdown",
   "metadata": {},
   "source": [
    "5. Hledání kořenů rovnice\n",
    "\n",
    "Zadání:\n",
    "Vyhledávání hodnot, při kterých dosáhne zkoumaný signál vybrané hodnoty je důležitou součástí analýzy časových řad. Pro tento účel existuje spousta zajímavých metod. Jeden typ metod se nazývá ohraničené (například metoda půlení intervalu), při kterých je zaručeno nalezení kořenu, avšak metody typicky konvergují pomalu. Druhý typ metod se nazývá neohraničené, které konvergují rychle, avšak svojí povahou nemusí nalézt řešení (metody využívající derivace). Vaším úkolem je vybrat tři různorodé funkce (například polynomiální, exponenciální/logaritmickou, harmonickou se směrnicí, aj.), které mají alespoň jeden kořen a nalézt ho jednou uzavřenou a jednou otevřenou metodou. Porovnejte časovou náročnost nalezení kořene a přesnost nalezení. \n"
   ]
  },
  {
   "cell_type": "code",
   "execution_count": 1,
   "metadata": {},
   "outputs": [],
   "source": [
    "import numpy as np\n",
    "import sympy as sp\n",
    "import time"
   ]
  },
  {
   "cell_type": "code",
   "execution_count": 2,
   "metadata": {},
   "outputs": [
    {
     "name": "stdout",
     "output_type": "stream",
     "text": [
      "Polynomiální fce: \n",
      " uzavrena matoda: koren: 0.999755859375, cas: 2.6941299438476562e-05 \n",
      " otevrena metoda: koren: 0.9999658381145471, cas: 9.775161743164062e-06 \n",
      " \n",
      "Exponenciální fce: \n",
      " uzavrena matoda: koren: 0.693603515625, cas: 8.20159912109375e-05 \n",
      " otevrena metoda: koren: 0.6935775536846278, cas: 0.00011181831359863281 \n",
      " \n",
      "Harmonická fce: \n",
      " uzavrena matoda: koren: 0.0007669903939428206, cas: 5.125999450683594e-05 \n",
      " otevrena metoda: koren: -3.142546543074278, cas: 7.867813110351562e-06 \n",
      " \n"
     ]
    }
   ],
   "source": [
    "\n",
    "#funkce\n",
    "def polynom_fce(x):\n",
    "    return x**3 - 6*x**2 + 11*x - 6\n",
    "\n",
    "\n",
    "def exponencialni_fce(x):\n",
    "    return np.exp(x) - 2\n",
    "\n",
    "\n",
    "def harmonicka_fce(x): \n",
    "    return np.sin(x)\n",
    "\n",
    "#derivace \n",
    "\n",
    "def d_polynom_fce(x):\n",
    "    return 3*x**2 - 12*x + 11\n",
    "\n",
    "def d_exponencialni_fce(x):\n",
    "    return np.exp(x)\n",
    "\n",
    "def d_harmonicka_fce(x): \n",
    "    return np.cos(x)\n",
    "\n",
    "#bisekce\n",
    "def uzavrena_matoda(fce, interval):\n",
    "    #presnost s kterou chceme najit koren \n",
    "    epsilon = 0.001\n",
    "    start_time = time.time()\n",
    "\n",
    "    # opakovani algoritmu dokud zacatek intervalu - konec intervalu nebude min nez prestnost \n",
    "    while abs(interval[0]-interval[1]) > epsilon:\n",
    "        #delime interval\n",
    "        c = (interval[0] + interval[1])/2\n",
    "        if fce(c) == 0:\n",
    "            #return c\n",
    "            break\n",
    "        elif fce(interval[0])*fce(c)>0:\n",
    "            interval[0] = c \n",
    "        else:\n",
    "            interval[1] = c\n",
    "    \n",
    "    end_time = time.time()\n",
    "    uzavreny_time = end_time - start_time\n",
    "\n",
    "    return f'koren: {c}, cas: {uzavreny_time}'\n",
    "\n",
    "\n",
    "\n",
    "#metoda tecen \n",
    "def otevrena_metoda(fce, x0, dfce):\n",
    "    epsilon  = 0.001\n",
    "    start_time = time.time()\n",
    "\n",
    "    while abs(fce(x0)) > epsilon:\n",
    "        x0 = x0 - fce(x0)/dfce(x0)\n",
    "    \n",
    "    end_time = time.time()\n",
    "\n",
    "    otevreny_time = end_time - start_time\n",
    "\n",
    "    return f'koren: {x0}, cas: {otevreny_time}'\n",
    "\n",
    "\n",
    "print(f\"Polynomiální fce: \\n uzavrena matoda: {uzavrena_matoda(polynom_fce, interval = [-3, 3])} \\n otevrena metoda: {otevrena_metoda(polynom_fce, -3, d_polynom_fce)} \\n \")\n",
    "print(f\"Exponenciální fce: \\n uzavrena matoda: {uzavrena_matoda(exponencialni_fce, interval = [-3, 3])} \\n otevrena metoda: {otevrena_metoda(exponencialni_fce, -3, d_exponencialni_fce)} \\n \")\n",
    "print(f\"Harmonická fce: \\n uzavrena matoda: {uzavrena_matoda(harmonicka_fce, interval=[0, 2*np.pi])} \\n otevrena metoda: {otevrena_metoda(harmonicka_fce, -3, d_harmonicka_fce)} \\n \")"
   ]
  }
 ],
 "metadata": {
  "kernelspec": {
   "display_name": "Python 3",
   "language": "python",
   "name": "python3"
  },
  "language_info": {
   "codemirror_mode": {
    "name": "ipython",
    "version": 3
   },
   "file_extension": ".py",
   "mimetype": "text/x-python",
   "name": "python",
   "nbconvert_exporter": "python",
   "pygments_lexer": "ipython3",
   "version": "3.11.5"
  }
 },
 "nbformat": 4,
 "nbformat_minor": 2
}
